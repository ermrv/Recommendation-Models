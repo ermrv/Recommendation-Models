{
  "nbformat": 4,
  "nbformat_minor": 0,
  "metadata": {
    "colab": {
      "name": "newuser_recommender.ipynb",
      "provenance": [],
      "collapsed_sections": []
    },
    "kernelspec": {
      "name": "python3",
      "display_name": "Python 3"
    }
  },
  "cells": [
    {
      "cell_type": "markdown",
      "metadata": {
        "id": "T_bded-2DIvt",
        "colab_type": "text"
      },
      "source": [
        ""
      ]
    },
    {
      "cell_type": "code",
      "metadata": {
        "id": "CPnMXAL-3WDV",
        "colab_type": "code",
        "colab": {
          "base_uri": "https://localhost:8080/",
          "height": 102
        },
        "outputId": "1123760c-df3e-4c56-f5c4-de012f2fc237"
      },
      "source": [
        "import numpy as np\n",
        "import pandas as pd\n",
        "import matplotlib.pyplot as plt\n",
        "\n",
        "# %matplotlib inline\n",
        "plt.style.use(\"ggplot\")\n",
        "\n",
        "import sklearn\n",
        "from sklearn.decomposition import TruncatedSVD\n",
        "\n",
        "ratings =pd.read_csv('/content/ratings_Beauty.csv')\n",
        "ratings = ratings.dropna()\n",
        "\n",
        "popular_products = pd.DataFrame(ratings.groupby('ProductId')['Rating'].count())\n",
        "most_popular = popular_products.sort_values('Rating', ascending=False)\n",
        "\n",
        "output_data = most_popular.head(20)\n",
        "output_data.index.to_list"
      ],
      "execution_count": 38,
      "outputs": [
        {
          "output_type": "execute_result",
          "data": {
            "text/plain": [
              "<bound method IndexOpsMixin.tolist of Index(['B0000YUXI0', 'B000142FVW', 'B00021DVCQ', 'B0002JKPA4', 'B00016XJ4M',\n",
              "       'B00006IV2F', 'B0000632EN', 'B0001ZYLAO', 'B000142C1A', 'B0000CC64W',\n",
              "       'B00005O0MZ', 'B0000530ED', 'B00004TUBL', 'B0000AFUTL', 'B0000ZLEFU',\n",
              "       'B00011QUDE', 'B00021C1LI', 'B00027DMI8', 'B0000Y3LAC', 'B0000536P4'],\n",
              "      dtype='object', name='ProductId')>"
            ]
          },
          "metadata": {
            "tags": []
          },
          "execution_count": 38
        }
      ]
    }
  ]
}